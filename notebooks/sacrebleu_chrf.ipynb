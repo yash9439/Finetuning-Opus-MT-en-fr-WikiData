{
 "cells": [
  {
   "cell_type": "code",
   "execution_count": 9,
   "metadata": {},
   "outputs": [],
   "source": [
    "import json\n",
    "from evaluate import load\n",
    "import pandas as pd\n",
    "\n",
    "with open('../data-files/opus_baseline_comet_score.json', 'r') as file:\n",
    "    baseline = json.load(file)\n",
    "\n",
    "with open('../data-files/opus_finetuned_comet_score.json', 'r') as file:\n",
    "    prediction = json.load(file)"
   ]
  },
  {
   "cell_type": "code",
   "execution_count": 10,
   "metadata": {},
   "outputs": [],
   "source": [
    "def mt_eval(data):\n",
    "    # Load metrics\n",
    "    sacrebleu = load(\"sacrebleu\")\n",
    "    chrf = load(\"chrf\")\n",
    "\n",
    "    for i in range(len(data)):\n",
    "        data[i][\"sacrebleu_score\"] = sacrebleu.compute(predictions=[data[i][\"output\"]], references=[data[i][\"gold\"]])['score']\n",
    "        data[i][\"chrf_score\"] = chrf.compute(predictions=[data[i][\"output\"]], references=[data[i][\"gold\"],])['score']\n",
    "\n",
    "    return data"
   ]
  },
  {
   "cell_type": "code",
   "execution_count": 3,
   "metadata": {},
   "outputs": [],
   "source": [
    "# Calculate metrics\n",
    "baseline = mt_eval(baseline)"
   ]
  },
  {
   "cell_type": "code",
   "execution_count": 4,
   "metadata": {},
   "outputs": [
    {
     "data": {
      "text/plain": [
       "[{'src': 'The division was deployed during the Battle of Normandy against the British and Canadian forces to the north of Caen.',\n",
       "  'gold': 'Cette division est déployée pendant la bataille de Normandie contre les forces canadiennes et britanniques au nord de Caen.',\n",
       "  'output': 'La division a été déployée pendant la bataille de Normandie contre les forces britanniques et canadiennes au nord de Caen.',\n",
       "  'comet_score': 0.04418114200234413,\n",
       "  'sacrebleu_score': 58.89346209976518,\n",
       "  'chrf_score': 83.45434362948484},\n",
       " {'src': 'Dalbello (born 22 May 1959 as Lisa Dal Bello) is a Canadian recording artist, songwriter, multi-instrumentalist and voice actress.',\n",
       "  'gold': 'Lisa Dalbello (née Lisa Dal Bello le 22 mai 1959) est une chanteuse et actrice canadienne.',\n",
       "  'output': 'Dalbello est une artiste canadienne née le 22 mai 1959 sous le nom de Lisa Dal Bello.',\n",
       "  'comet_score': 0.4207914471626282,\n",
       "  'sacrebleu_score': 22.474670127646462,\n",
       "  'chrf_score': 55.47294475202792}]"
      ]
     },
     "execution_count": 4,
     "metadata": {},
     "output_type": "execute_result"
    }
   ],
   "source": [
    "baseline[:2]"
   ]
  },
  {
   "cell_type": "code",
   "execution_count": 11,
   "metadata": {},
   "outputs": [],
   "source": [
    "# Calculate metrics\n",
    "prediction = mt_eval(prediction)"
   ]
  },
  {
   "cell_type": "code",
   "execution_count": 12,
   "metadata": {},
   "outputs": [
    {
     "data": {
      "text/plain": [
       "[{'src': 'The division was deployed during the Battle of Normandy against the British and Canadian forces to the north of Caen.',\n",
       "  'gold': 'Cette division est déployée pendant la bataille de Normandie contre les forces canadiennes et britanniques au nord de Caen.',\n",
       "  'output': 'La division est déployée lors de la bataille de Normandie contre les forces britanniques et canadiennes au nord de Caen.',\n",
       "  'comet_score': -0.07897283136844635,\n",
       "  'sacrebleu_score': 53.38177723601814,\n",
       "  'chrf_score': 80.16783938928938},\n",
       " {'src': 'Dalbello (born 22 May 1959 as Lisa Dal Bello) is a Canadian recording artist, songwriter, multi-instrumentalist and voice actress.',\n",
       "  'gold': 'Lisa Dalbello (née Lisa Dal Bello le 22 mai 1959) est une chanteuse et actrice canadienne.',\n",
       "  'output': 'Dalbello ( Lisa Dal Bello) est une actrice canadienne née le 22 mai 1959 à Oakville, Ontario (Canada).',\n",
       "  'comet_score': 0.3238285779953003,\n",
       "  'sacrebleu_score': 22.816849039973935,\n",
       "  'chrf_score': 61.6402827990054}]"
      ]
     },
     "execution_count": 12,
     "metadata": {},
     "output_type": "execute_result"
    }
   ],
   "source": [
    "prediction[:2]"
   ]
  },
  {
   "cell_type": "code",
   "execution_count": 13,
   "metadata": {},
   "outputs": [],
   "source": [
    "with open('../data-files/opus_baseline_results.json', 'w') as file:\n",
    "    json.dump(baseline, file, indent=4, ensure_ascii=False)\n",
    "\n",
    "with open('../data-files/opus_finetuned_results.json', 'w') as file:\n",
    "    json.dump(prediction, file, indent=4, ensure_ascii=False)"
   ]
  }
 ],
 "metadata": {
  "kernelspec": {
   "display_name": "myenv",
   "language": "python",
   "name": "python3"
  },
  "language_info": {
   "codemirror_mode": {
    "name": "ipython",
    "version": 3
   },
   "file_extension": ".py",
   "mimetype": "text/x-python",
   "name": "python",
   "nbconvert_exporter": "python",
   "pygments_lexer": "ipython3",
   "version": "3.12.4"
  }
 },
 "nbformat": 4,
 "nbformat_minor": 2
}
