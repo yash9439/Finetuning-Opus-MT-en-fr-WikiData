{
 "cells": [
  {
   "cell_type": "code",
   "execution_count": 5,
   "metadata": {},
   "outputs": [],
   "source": [
    "import json\n",
    "\n",
    "with open('../data-files/opus_baseline_results.json', 'r') as file:\n",
    "    baseline = json.load(file)\n",
    "\n",
    "with open('../data-files/opus_finetuned_results.json', 'r') as file:\n",
    "    prediction = json.load(file)"
   ]
  },
  {
   "cell_type": "code",
   "execution_count": 6,
   "metadata": {},
   "outputs": [
    {
     "name": "stdout",
     "output_type": "stream",
     "text": [
      "Average sacrebleu baseline: 42.20433191696201\n",
      "Average chrf baseline: 65.99741618324556\n",
      "Average comet baseline: 0.3952450662133594\n"
     ]
    }
   ],
   "source": [
    "average_sacrebleu_baseline = sum([item[\"sacrebleu_score\"] for item in baseline]) / len(baseline)\n",
    "average_chrf_baseline = sum([item[\"chrf_score\"] for item in baseline]) / len(baseline)\n",
    "average_comet_baseline = sum([item[\"comet_score\"] for item in baseline]) / len(baseline)\n",
    "\n",
    "print(f\"Average sacrebleu baseline: {average_sacrebleu_baseline}\")\n",
    "print(f\"Average chrf baseline: {average_chrf_baseline}\")\n",
    "print(f\"Average comet baseline: {average_comet_baseline}\")"
   ]
  },
  {
   "cell_type": "code",
   "execution_count": 7,
   "metadata": {},
   "outputs": [
    {
     "name": "stdout",
     "output_type": "stream",
     "text": [
      "Average sacrebleu prediction: 43.55361480460177\n",
      "Average chrf prediction: 69.16497724507633\n",
      "Average comet prediction: 0.5659008046065768\n"
     ]
    }
   ],
   "source": [
    "average_sacrebleu_prediction = sum([item[\"sacrebleu_score\"] for item in prediction]) / len(prediction)\n",
    "average_chrf_prediction = sum([item[\"chrf_score\"] for item in prediction]) / len(prediction)\n",
    "average_comet_prediction = sum([item[\"comet_score\"] for item in prediction]) / len(prediction)\n",
    "print(f\"Average sacrebleu prediction: {average_sacrebleu_prediction}\")\n",
    "print(f\"Average chrf prediction: {average_chrf_prediction}\")\n",
    "print(f\"Average comet prediction: {average_comet_prediction}\")"
   ]
  }
 ],
 "metadata": {
  "kernelspec": {
   "display_name": "myenv",
   "language": "python",
   "name": "python3"
  },
  "language_info": {
   "codemirror_mode": {
    "name": "ipython",
    "version": 3
   },
   "file_extension": ".py",
   "mimetype": "text/x-python",
   "name": "python",
   "nbconvert_exporter": "python",
   "pygments_lexer": "ipython3",
   "version": "3.12.4"
  }
 },
 "nbformat": 4,
 "nbformat_minor": 2
}
